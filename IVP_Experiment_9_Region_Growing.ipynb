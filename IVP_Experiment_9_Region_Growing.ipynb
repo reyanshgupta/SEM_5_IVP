{
  "nbformat": 4,
  "nbformat_minor": 0,
  "metadata": {
    "colab": {
      "provenance": [],
      "authorship_tag": "ABX9TyMHHD8Furhl87L8O+GRAAnY",
      "include_colab_link": true
    },
    "kernelspec": {
      "name": "python3",
      "display_name": "Python 3"
    },
    "language_info": {
      "name": "python"
    }
  },
  "cells": [
    {
      "cell_type": "markdown",
      "metadata": {
        "id": "view-in-github",
        "colab_type": "text"
      },
      "source": [
        "<a href=\"https://colab.research.google.com/github/reyanshgupta/SEM_5_IVP/blob/main/IVP_Experiment_9_Region_Growing.ipynb\" target=\"_parent\"><img src=\"https://colab.research.google.com/assets/colab-badge.svg\" alt=\"Open In Colab\"/></a>"
      ]
    },
    {
      "cell_type": "code",
      "execution_count": null,
      "metadata": {
        "id": "bfV4ERkEaLs_"
      },
      "outputs": [],
      "source": [
        "import cv2\n",
        "from google.colab.patches import cv2_imshow\n",
        "import numpy as np\n",
        "import matplotlib.pyplot as plt"
      ]
    },
    {
      "cell_type": "code",
      "source": [
        "def region_growing(image, seed, threshold):\n",
        "  rows,cols = image.shape\n",
        "  output_img = np.zeros_like(image)\n",
        "  #queue for processing the region\n",
        "  queue = []\n",
        "  queue.append(seed)\n",
        "\n",
        "  #seed point\n",
        "  seed_value = image[seed[0],seed[1]]\n",
        "\n",
        "  while queue:\n",
        "    current_pixel = queue.pop(0)\n",
        "    x,y = current_pixel\n",
        "\n",
        "    #checking bounds\n",
        "    if x<0 or y<0 or x>=rows or y>=cols:\n",
        "      continue\n",
        "\n",
        "    #checking if already visited\n",
        "    if output_img[x,y] == 255:\n",
        "      continue\n",
        "\n",
        "\n",
        "    pixel_value = image[x,y]\n",
        "    if abs(int(pixel_value)-int(seed_value)) <= threshold:\n",
        "      output_img[x,y] = 255\n",
        "\n",
        "      #adding neigbours to queue\n",
        "      queue.append((x + 1, y))\n",
        "      queue.append((x - 1, y))\n",
        "      queue.append((x, y + 1))\n",
        "      queue.append((x, y - 1))\n",
        "\n",
        "  return output_img"
      ],
      "metadata": {
        "id": "o8cUiL0saPoQ"
      },
      "execution_count": null,
      "outputs": []
    },
    {
      "cell_type": "code",
      "source": [
        "hoover = cv2.imread(\"hoover.png\",0)\n",
        "seed_point=(100,100)\n",
        "threshold = 20\n",
        "output = region_growing(hoover,seed_point,threshold)\n",
        "cv2_imshow(output)"
      ],
      "metadata": {
        "colab": {
          "base_uri": "https://localhost:8080/",
          "height": 511
        },
        "id": "fYvcDbKZa1ub",
        "outputId": "b8f933fd-56d2-487d-ef03-e370f0099a02"
      },
      "execution_count": null,
      "outputs": [
        {
          "output_type": "display_data",
          "data": {
            "text/plain": [
              "<PIL.Image.Image image mode=L size=1600x559>"
            ],
            "image/png": "[encoded data removed]"
          },
          "metadata": {}
        }
      ]
    }
  ]
}